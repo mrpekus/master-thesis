{
 "cells": [
  {
   "cell_type": "markdown",
   "id": "cee5ec1d-556f-4ece-9f74-889bafeab105",
   "metadata": {},
   "source": [
    "# AutoGluon Experiment - Authentic vs. Synthetic Face Image Detection\n",
    "- Author: Petr Kuska\n",
    "- Note: This is a version of a script used in the master thesis to train an AutoGluon model on data stored on Kaggle (private datasets). A more streamlined version for using the trained model will be provided later."
   ]
  },
  {
   "cell_type": "markdown",
   "id": "5b8f247c-81f5-40c5-9f1f-2b488d192233",
   "metadata": {},
   "source": [
    "## Setup\n",
    "Installl kaggle API to download datasets."
   ]
  },
  {
   "cell_type": "code",
   "execution_count": null,
   "id": "e5fc5104-10f0-493c-8806-9d670447ea9d",
   "metadata": {
    "tags": []
   },
   "outputs": [],
   "source": [
    "!pip install kaggle --upgrade"
   ]
  },
  {
   "cell_type": "markdown",
   "id": "4aee9e8f-6b5c-45a8-b3a4-a636d97d4ede",
   "metadata": {},
   "source": [
    "In Kaggle page go to the Account tab of your user profile and select Create API Token. This will trigger the download of kaggle.json, a file containing your API credentials. Place this file in the location ~/.kaggle/kaggle.json.\n",
    "\n",
    "If you have uploaded using JupyterLab, use the below commands to copy it to the required location."
   ]
  },
  {
   "cell_type": "raw",
   "id": "9f7b31d6-087a-43d3-be04-e30ce931323f",
   "metadata": {},
   "source": [
    "mkdir .kaggle\n",
    "mv kaggle.json .kaggle/\n",
    "chmod 600 ~/.kaggle/kaggle.json"
   ]
  },
  {
   "cell_type": "markdown",
   "id": "33731e77-5989-4103-a857-c61c5d71ca9d",
   "metadata": {},
   "source": [
    "Open a terminal, and run the following commands:"
   ]
  },
  {
   "cell_type": "code",
   "execution_count": null,
   "id": "1053242a-7ff8-474f-8aa6-478b6d7b1980",
   "metadata": {},
   "outputs": [],
   "source": [
    "!kaggle datasets download -d petrkuska/training\n",
    "!kaggle datasets download -d petrkuska/validation\n",
    "!kaggle datasets download -d petrkuska/test-data"
   ]
  },
  {
   "cell_type": "markdown",
   "id": "20948346-96dd-40a5-b0cc-422f562a4308",
   "metadata": {},
   "source": [
    "Install zip package by running the following command:"
   ]
  },
  {
   "cell_type": "code",
   "execution_count": null,
   "id": "0baec23a-d27f-4799-98b8-1b53251bd4ae",
   "metadata": {
    "tags": []
   },
   "outputs": [],
   "source": [
    "!apt-get install zip"
   ]
  },
  {
   "cell_type": "markdown",
   "id": "578756b0-863b-434a-aec2-65d77c1bbfd2",
   "metadata": {},
   "source": [
    "Unzip downloaded datasets:"
   ]
  },
  {
   "cell_type": "code",
   "execution_count": 5,
   "id": "69f766a6-8413-4bd7-868b-521301ade440",
   "metadata": {
    "tags": []
   },
   "outputs": [],
   "source": [
    "!unzip -qq training.zip\n",
    "!unzip -qq validation.zip\n",
    "!unzip -qq test-data.zip"
   ]
  },
  {
   "cell_type": "markdown",
   "id": "c65bf2f4-326d-43f9-b0ea-e1db6c956326",
   "metadata": {},
   "source": [
    "Install AutGluon - more info at: https://auto.gluon.ai/stable/index.html"
   ]
  },
  {
   "cell_type": "code",
   "execution_count": 2,
   "id": "8db3ff28-43ff-48bf-b0cb-ed9c23760fae",
   "metadata": {
    "tags": []
   },
   "outputs": [
    {
     "name": "stdout",
     "output_type": "stream",
     "text": [
      "^C\n"
     ]
    }
   ],
   "source": [
    "!pip install autogluon"
   ]
  },
  {
   "cell_type": "markdown",
   "id": "f9058fea-574b-4318-b8d7-493b8e646b3e",
   "metadata": {},
   "source": [
    "## Data Preparation"
   ]
  },
  {
   "cell_type": "code",
   "execution_count": 1,
   "id": "3d65ec95-775e-4ebb-be4f-a871a907866f",
   "metadata": {
    "tags": []
   },
   "outputs": [],
   "source": [
    "import pandas as pd"
   ]
  },
  {
   "cell_type": "code",
   "execution_count": 24,
   "id": "1007bb84-4cd4-49e7-a7b9-acf8d7eb2c0f",
   "metadata": {
    "tags": []
   },
   "outputs": [
    {
     "data": {
      "text/html": [
       "<div>\n",
       "<style scoped>\n",
       "    .dataframe tbody tr th:only-of-type {\n",
       "        vertical-align: middle;\n",
       "    }\n",
       "\n",
       "    .dataframe tbody tr th {\n",
       "        vertical-align: top;\n",
       "    }\n",
       "\n",
       "    .dataframe thead th {\n",
       "        text-align: right;\n",
       "    }\n",
       "</style>\n",
       "<table border=\"1\" class=\"dataframe\">\n",
       "  <thead>\n",
       "    <tr style=\"text-align: right;\">\n",
       "      <th></th>\n",
       "      <th>img_path</th>\n",
       "      <th>label</th>\n",
       "    </tr>\n",
       "  </thead>\n",
       "  <tbody>\n",
       "    <tr>\n",
       "      <th>0</th>\n",
       "      <td>/home/training/synthetic/ifakefacedb_tpdne_012...</td>\n",
       "      <td>synthetic</td>\n",
       "    </tr>\n",
       "    <tr>\n",
       "      <th>1</th>\n",
       "      <td>/home/training/synthetic/stylegan_007402.png</td>\n",
       "      <td>synthetic</td>\n",
       "    </tr>\n",
       "    <tr>\n",
       "      <th>2</th>\n",
       "      <td>/home/training/authentic/celeba_132993.jpg</td>\n",
       "      <td>authentic</td>\n",
       "    </tr>\n",
       "    <tr>\n",
       "      <th>3</th>\n",
       "      <td>/home/training/synthetic/stylegan2_032262.png</td>\n",
       "      <td>synthetic</td>\n",
       "    </tr>\n",
       "    <tr>\n",
       "      <th>4</th>\n",
       "      <td>/home/training/authentic/celeba_078422.jpg</td>\n",
       "      <td>authentic</td>\n",
       "    </tr>\n",
       "  </tbody>\n",
       "</table>\n",
       "</div>"
      ],
      "text/plain": [
       "                                            img_path      label\n",
       "0  /home/training/synthetic/ifakefacedb_tpdne_012...  synthetic\n",
       "1       /home/training/synthetic/stylegan_007402.png  synthetic\n",
       "2         /home/training/authentic/celeba_132993.jpg  authentic\n",
       "3      /home/training/synthetic/stylegan2_032262.png  synthetic\n",
       "4         /home/training/authentic/celeba_078422.jpg  authentic"
      ]
     },
     "execution_count": 24,
     "metadata": {},
     "output_type": "execute_result"
    }
   ],
   "source": [
    "training_df = pd.read_csv(\"training.csv\")\n",
    "training_df.head(5)"
   ]
  },
  {
   "cell_type": "code",
   "execution_count": 25,
   "id": "dc4e2fe6-a9f1-46d2-9345-64c491fb87d9",
   "metadata": {
    "tags": []
   },
   "outputs": [
    {
     "data": {
      "text/html": [
       "<div>\n",
       "<style scoped>\n",
       "    .dataframe tbody tr th:only-of-type {\n",
       "        vertical-align: middle;\n",
       "    }\n",
       "\n",
       "    .dataframe tbody tr th {\n",
       "        vertical-align: top;\n",
       "    }\n",
       "\n",
       "    .dataframe thead th {\n",
       "        text-align: right;\n",
       "    }\n",
       "</style>\n",
       "<table border=\"1\" class=\"dataframe\">\n",
       "  <thead>\n",
       "    <tr style=\"text-align: right;\">\n",
       "      <th></th>\n",
       "      <th>img_path</th>\n",
       "      <th>label</th>\n",
       "    </tr>\n",
       "  </thead>\n",
       "  <tbody>\n",
       "    <tr>\n",
       "      <th>0</th>\n",
       "      <td>/home/validation/synthetic/generated_photos_v3...</td>\n",
       "      <td>synthetic</td>\n",
       "    </tr>\n",
       "    <tr>\n",
       "      <th>1</th>\n",
       "      <td>/home/validation/synthetic/stylegan2_038466.png</td>\n",
       "      <td>synthetic</td>\n",
       "    </tr>\n",
       "    <tr>\n",
       "      <th>2</th>\n",
       "      <td>/home/validation/synthetic/ifakefacedb_100f_09...</td>\n",
       "      <td>synthetic</td>\n",
       "    </tr>\n",
       "    <tr>\n",
       "      <th>3</th>\n",
       "      <td>/home/validation/authentic/ffhq_34648.png</td>\n",
       "      <td>authentic</td>\n",
       "    </tr>\n",
       "    <tr>\n",
       "      <th>4</th>\n",
       "      <td>/home/validation/synthetic/stylegan2_030897.png</td>\n",
       "      <td>synthetic</td>\n",
       "    </tr>\n",
       "  </tbody>\n",
       "</table>\n",
       "</div>"
      ],
      "text/plain": [
       "                                            img_path      label\n",
       "0  /home/validation/synthetic/generated_photos_v3...  synthetic\n",
       "1    /home/validation/synthetic/stylegan2_038466.png  synthetic\n",
       "2  /home/validation/synthetic/ifakefacedb_100f_09...  synthetic\n",
       "3          /home/validation/authentic/ffhq_34648.png  authentic\n",
       "4    /home/validation/synthetic/stylegan2_030897.png  synthetic"
      ]
     },
     "execution_count": 25,
     "metadata": {},
     "output_type": "execute_result"
    }
   ],
   "source": [
    "validation_df = pd.read_csv(\"validation.csv\")\n",
    "validation_df.head(5)"
   ]
  },
  {
   "cell_type": "markdown",
   "id": "ec63d2d7-23fa-4bc8-8685-393276db6bb0",
   "metadata": {},
   "source": [
    "## Modelling"
   ]
  },
  {
   "cell_type": "code",
   "execution_count": null,
   "id": "036de440-7bc3-4ec5-8002-b538613ed775",
   "metadata": {
    "tags": []
   },
   "outputs": [],
   "source": [
    "from autogluon.multimodal import MultiModalPredictor\n",
    "\n",
    "model_path = \"./authentic_vs_synthetic_face_model_2\"\n",
    "predictor = MultiModalPredictor(label=\"label\", path=model_path)\n",
    "predictor.fit(\n",
    "    train_data=training_df, # you can use train_data_byte as well\n",
    "    tuning_data=validation_df,\n",
    "    time_limit=2*60*60, # seconds\n",
    ") "
   ]
  },
  {
   "cell_type": "markdown",
   "id": "39190bfc-d757-4f53-8d17-f569b68fa155",
   "metadata": {},
   "source": [
    "## Test Model"
   ]
  },
  {
   "cell_type": "code",
   "execution_count": 28,
   "id": "668b1a05-47f8-4b78-9543-0c4f93651862",
   "metadata": {
    "tags": []
   },
   "outputs": [
    {
     "data": {
      "text/html": [
       "<div>\n",
       "<style scoped>\n",
       "    .dataframe tbody tr th:only-of-type {\n",
       "        vertical-align: middle;\n",
       "    }\n",
       "\n",
       "    .dataframe tbody tr th {\n",
       "        vertical-align: top;\n",
       "    }\n",
       "\n",
       "    .dataframe thead th {\n",
       "        text-align: right;\n",
       "    }\n",
       "</style>\n",
       "<table border=\"1\" class=\"dataframe\">\n",
       "  <thead>\n",
       "    <tr style=\"text-align: right;\">\n",
       "      <th></th>\n",
       "      <th>img_path</th>\n",
       "      <th>label</th>\n",
       "    </tr>\n",
       "  </thead>\n",
       "  <tbody>\n",
       "    <tr>\n",
       "      <th>0</th>\n",
       "      <td>/home/test/synthetic/ifakefacedb_100f_083149.jpg</td>\n",
       "      <td>synthetic</td>\n",
       "    </tr>\n",
       "    <tr>\n",
       "      <th>1</th>\n",
       "      <td>/home/test/synthetic/generated_photos_v3_05096...</td>\n",
       "      <td>synthetic</td>\n",
       "    </tr>\n",
       "    <tr>\n",
       "      <th>2</th>\n",
       "      <td>/home/test/synthetic/stylegan2_030290.png</td>\n",
       "      <td>synthetic</td>\n",
       "    </tr>\n",
       "    <tr>\n",
       "      <th>3</th>\n",
       "      <td>/home/test/authentic/ffhq_02705.png</td>\n",
       "      <td>authentic</td>\n",
       "    </tr>\n",
       "    <tr>\n",
       "      <th>4</th>\n",
       "      <td>/home/test/synthetic/sdxl_a profile photo of a...</td>\n",
       "      <td>synthetic</td>\n",
       "    </tr>\n",
       "  </tbody>\n",
       "</table>\n",
       "</div>"
      ],
      "text/plain": [
       "                                            img_path      label\n",
       "0   /home/test/synthetic/ifakefacedb_100f_083149.jpg  synthetic\n",
       "1  /home/test/synthetic/generated_photos_v3_05096...  synthetic\n",
       "2          /home/test/synthetic/stylegan2_030290.png  synthetic\n",
       "3                /home/test/authentic/ffhq_02705.png  authentic\n",
       "4  /home/test/synthetic/sdxl_a profile photo of a...  synthetic"
      ]
     },
     "execution_count": 28,
     "metadata": {},
     "output_type": "execute_result"
    }
   ],
   "source": [
    "test_df = pd.read_csv(\"test.csv\")\n",
    "test_df.head(5)"
   ]
  },
  {
   "cell_type": "code",
   "execution_count": null,
   "id": "896e6738-0f82-4089-9db8-c58ec5a50981",
   "metadata": {
    "tags": []
   },
   "outputs": [],
   "source": [
    "scores = predictor.evaluate(test_df, metrics=[\"accuracy\"]) # roc_auc"
   ]
  },
  {
   "cell_type": "code",
   "execution_count": 30,
   "id": "7d706891-26b8-4e1e-a049-27f015cc72c8",
   "metadata": {
    "tags": []
   },
   "outputs": [
    {
     "data": {
      "text/plain": [
       "{'accuracy': 0.9993333333333333}"
      ]
     },
     "execution_count": 30,
     "metadata": {},
     "output_type": "execute_result"
    }
   ],
   "source": [
    "scores"
   ]
  },
  {
   "cell_type": "code",
   "execution_count": 34,
   "id": "9cf2bc1d-061f-4ccd-b550-d947da972749",
   "metadata": {
    "tags": []
   },
   "outputs": [
    {
     "data": {
      "application/vnd.jupyter.widget-view+json": {
       "model_id": "a3f92df6a1e442b8900c7ca028f3c6c1",
       "version_major": 2,
       "version_minor": 0
      },
      "text/plain": [
       "Predicting: 0it [00:00, ?it/s]"
      ]
     },
     "metadata": {},
     "output_type": "display_data"
    }
   ],
   "source": [
    "predictions = predictor.predict(test_df)\n"
   ]
  },
  {
   "cell_type": "code",
   "execution_count": 36,
   "id": "1805fa95-7d8f-4f9b-8000-0540862d0c69",
   "metadata": {
    "tags": []
   },
   "outputs": [],
   "source": [
    "test_df[\"prediction\"] = predictions"
   ]
  },
  {
   "cell_type": "code",
   "execution_count": 37,
   "id": "efbd181a-3483-4ebe-af11-edb41e3c93d1",
   "metadata": {
    "tags": []
   },
   "outputs": [
    {
     "data": {
      "text/html": [
       "<div>\n",
       "<style scoped>\n",
       "    .dataframe tbody tr th:only-of-type {\n",
       "        vertical-align: middle;\n",
       "    }\n",
       "\n",
       "    .dataframe tbody tr th {\n",
       "        vertical-align: top;\n",
       "    }\n",
       "\n",
       "    .dataframe thead th {\n",
       "        text-align: right;\n",
       "    }\n",
       "</style>\n",
       "<table border=\"1\" class=\"dataframe\">\n",
       "  <thead>\n",
       "    <tr style=\"text-align: right;\">\n",
       "      <th></th>\n",
       "      <th>img_path</th>\n",
       "      <th>label</th>\n",
       "      <th>prediction</th>\n",
       "    </tr>\n",
       "  </thead>\n",
       "  <tbody>\n",
       "    <tr>\n",
       "      <th>0</th>\n",
       "      <td>/home/test/synthetic/ifakefacedb_100f_083149.jpg</td>\n",
       "      <td>synthetic</td>\n",
       "      <td>synthetic</td>\n",
       "    </tr>\n",
       "    <tr>\n",
       "      <th>1</th>\n",
       "      <td>/home/test/synthetic/generated_photos_v3_05096...</td>\n",
       "      <td>synthetic</td>\n",
       "      <td>synthetic</td>\n",
       "    </tr>\n",
       "    <tr>\n",
       "      <th>2</th>\n",
       "      <td>/home/test/synthetic/stylegan2_030290.png</td>\n",
       "      <td>synthetic</td>\n",
       "      <td>synthetic</td>\n",
       "    </tr>\n",
       "    <tr>\n",
       "      <th>3</th>\n",
       "      <td>/home/test/authentic/ffhq_02705.png</td>\n",
       "      <td>authentic</td>\n",
       "      <td>authentic</td>\n",
       "    </tr>\n",
       "    <tr>\n",
       "      <th>4</th>\n",
       "      <td>/home/test/synthetic/sdxl_a profile photo of a...</td>\n",
       "      <td>synthetic</td>\n",
       "      <td>synthetic</td>\n",
       "    </tr>\n",
       "  </tbody>\n",
       "</table>\n",
       "</div>"
      ],
      "text/plain": [
       "                                            img_path      label prediction\n",
       "0   /home/test/synthetic/ifakefacedb_100f_083149.jpg  synthetic  synthetic\n",
       "1  /home/test/synthetic/generated_photos_v3_05096...  synthetic  synthetic\n",
       "2          /home/test/synthetic/stylegan2_030290.png  synthetic  synthetic\n",
       "3                /home/test/authentic/ffhq_02705.png  authentic  authentic\n",
       "4  /home/test/synthetic/sdxl_a profile photo of a...  synthetic  synthetic"
      ]
     },
     "execution_count": 37,
     "metadata": {},
     "output_type": "execute_result"
    }
   ],
   "source": [
    "test_df.head()"
   ]
  },
  {
   "cell_type": "code",
   "execution_count": 38,
   "id": "cd57d8d6-691d-4d44-8c25-aa5133c503e9",
   "metadata": {
    "tags": []
   },
   "outputs": [],
   "source": [
    "test_df.to_csv(\"test_predictions.csv\", index=False)"
   ]
  },
  {
   "cell_type": "markdown",
   "id": "c21ef1f3-688b-4b6a-a935-4e2126a3751b",
   "metadata": {},
   "source": [
    "## Load Model"
   ]
  },
  {
   "cell_type": "code",
   "execution_count": null,
   "id": "2d6c8284-e048-41b2-aa53-78a8c2235536",
   "metadata": {},
   "outputs": [],
   "source": [
    "from autogluon.multimodal import MultiModalPredictor\n",
    "predictor = MultiModalPredictor.load(\"authentic_vs_synthetic_face_model_2\")"
   ]
  },
  {
   "cell_type": "code",
   "execution_count": 9,
   "id": "3dcd9870-0013-46bd-ad71-ed616789a6ef",
   "metadata": {},
   "outputs": [
    {
     "data": {
      "text/plain": [
       "<autogluon.multimodal.predictor.MultiModalPredictor at 0x7f059dd32c20>"
      ]
     },
     "execution_count": 9,
     "metadata": {},
     "output_type": "execute_result"
    }
   ],
   "source": [
    "predictor\n",
    "# env_stratetgy set to None and it works"
   ]
  },
  {
   "cell_type": "code",
   "execution_count": null,
   "id": "7809bd77-1b2e-4407-840d-673b5e8e0103",
   "metadata": {},
   "outputs": [],
   "source": [
    "!pip uninstall torchaudio -y # should solve the problem with running the model"
   ]
  },
  {
   "cell_type": "markdown",
   "id": "33491ecd-c181-4a22-9cb6-1951966e22c2",
   "metadata": {},
   "source": [
    "## Make Predictions"
   ]
  },
  {
   "cell_type": "code",
   "execution_count": 60,
   "id": "10ef1e87-6763-4dfc-96e4-914e79f4db6f",
   "metadata": {},
   "outputs": [
    {
     "name": "stderr",
     "output_type": "stream",
     "text": [
      "/opt/conda/lib/python3.10/site-packages/lightning/fabric/connector.py:554: UserWarning: 16 is supported for historical reasons but its usage is discouraged. Please set your precision to 16-mixed instead!\n",
      "  rank_zero_warn(\n"
     ]
    },
    {
     "data": {
      "application/vnd.jupyter.widget-view+json": {
       "model_id": "a2821c5dc51e4bf28d570c7f0205181c",
       "version_major": 2,
       "version_minor": 0
      },
      "text/plain": [
       "Predicting: 0it [00:00, ?it/s]"
      ]
     },
     "metadata": {},
     "output_type": "display_data"
    },
    {
     "name": "stdout",
     "output_type": "stream",
     "text": [
      "['synthetic']\n"
     ]
    },
    {
     "name": "stderr",
     "output_type": "stream",
     "text": [
      "/opt/conda/lib/python3.10/site-packages/lightning/fabric/connector.py:554: UserWarning: 16 is supported for historical reasons but its usage is discouraged. Please set your precision to 16-mixed instead!\n",
      "  rank_zero_warn(\n"
     ]
    },
    {
     "data": {
      "application/vnd.jupyter.widget-view+json": {
       "model_id": "6e3c1ad1f08c46b5a6f9e6eac10c2c1a",
       "version_major": 2,
       "version_minor": 0
      },
      "text/plain": [
       "Predicting: 0it [00:00, ?it/s]"
      ]
     },
     "metadata": {},
     "output_type": "display_data"
    },
    {
     "name": "stdout",
     "output_type": "stream",
     "text": [
      "[[0.000010 0.999990]]\n"
     ]
    }
   ],
   "source": [
    "from IPython.display import Image, display\n",
    "\n",
    "image = \"midjourney_woman_2.png\"\n",
    "\n",
    "pil_img = Image(filename=image)\n",
    "#display(pil_img)\n",
    "\n",
    "import numpy as np\n",
    "np.set_printoptions(formatter={'float_kind':'{:f}'.format})\n",
    "predictions = predictor.predict({'img_path': [image]})\n",
    "print(predictions)\n",
    "\n",
    "predictions = predictor.predict_proba({'img_path': [image]})\n",
    "print(predictions)"
   ]
  },
  {
   "cell_type": "code",
   "execution_count": 32,
   "id": "a6bc6437-b336-401b-8c71-d174ecbdbaa7",
   "metadata": {
    "tags": []
   },
   "outputs": [
    {
     "name": "stdout",
     "output_type": "stream",
     "text": [
      "  adding: authentic_vs_synthetic_face_model_2/ (stored 0%)\n",
      "  adding: authentic_vs_synthetic_face_model_2/config.yaml (deflated 58%)\n",
      "  adding: authentic_vs_synthetic_face_model_2/df_preprocessor.pkl (deflated 75%)\n",
      "  adding: authentic_vs_synthetic_face_model_2/data_processors.pkl (deflated 47%)\n",
      "  adding: authentic_vs_synthetic_face_model_2/assets.json (deflated 47%)\n",
      "  adding: authentic_vs_synthetic_face_model_2/events.out.tfevents.1700950758.71756cb5e45f.163.2 (deflated 78%)\n",
      "  adding: authentic_vs_synthetic_face_model_2/hparams.yaml (deflated 37%)\n",
      "  adding: authentic_vs_synthetic_face_model_2/model.ckpt (deflated 7%)\n"
     ]
    }
   ],
   "source": [
    "!zip -r autogluon_model_2.zip authentic_vs_synthetic_face_model_2"
   ]
  }
 ],
 "metadata": {
  "kernelspec": {
   "display_name": "Python 3 (ipykernel)",
   "language": "python",
   "name": "python3"
  },
  "language_info": {
   "codemirror_mode": {
    "name": "ipython",
    "version": 3
   },
   "file_extension": ".py",
   "mimetype": "text/x-python",
   "name": "python",
   "nbconvert_exporter": "python",
   "pygments_lexer": "ipython3",
   "version": "3.9.13"
  }
 },
 "nbformat": 4,
 "nbformat_minor": 5
}
